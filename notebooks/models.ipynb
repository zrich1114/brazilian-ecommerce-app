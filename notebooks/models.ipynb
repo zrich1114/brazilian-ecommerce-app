{
 "cells": [
  {
   "cell_type": "code",
   "execution_count": null,
   "metadata": {},
   "outputs": [],
   "source": [
    "import pandas as pd\n",
    "from sklearn.model_selection import train_test_split\n",
    "from sklearn.ensemble import RandomForestRegressor\n",
    "from sklearn.metrics import accuracy_score, mean_absolute_error\n",
    "import joblib"
   ]
  },
  {
   "cell_type": "markdown",
   "metadata": {},
   "source": [
    "## Load datasets"
   ]
  },
  {
   "cell_type": "code",
   "execution_count": 5,
   "metadata": {},
   "outputs": [],
   "source": [
    "customers = pd.read_csv('../data/olist_customers_dataset.csv')\n",
    "items = pd.read_csv('../data/olist_order_items_dataset.csv')\n",
    "payments = pd.read_csv('../data/olist_order_payments_dataset.csv')\n",
    "reviews = pd.read_csv('../data/olist_order_reviews_dataset.csv', parse_dates=['review_creation_date', 'review_answer_timestamp'])\n",
    "orders = pd.read_csv('../data/olist_orders_dataset.csv', parse_dates=['order_purchase_timestamp', 'order_approved_at', 'order_delivered_carrier_date', 'order_delivered_customer_date', 'order_estimated_delivery_date'])\n",
    "products = pd.read_csv('../data/olist_products_dataset.csv')\n",
    "sellers = pd.read_csv('../data/olist_sellers_dataset.csv')\n",
    "categories = pd.read_csv('../data/product_category_name_translation.csv')"
   ]
  },
  {
   "cell_type": "markdown",
   "metadata": {},
   "source": [
    "## Join datasets"
   ]
  },
  {
   "cell_type": "code",
   "execution_count": null,
   "metadata": {},
   "outputs": [],
   "source": [
    "merged = pd.merge(left=items, right=payments, on='order_id', how='inner')\n",
    "merged = pd.merge(left=merged, right=orders, on='order_id', how='inner')\n",
    "merged = pd.merge(left=merged, right=reviews, on='order_id', how='inner')\n",
    "merged = pd.merge(left=merged, right=customers, on='customer_id', how='inner')\n",
    "merged = pd.merge(left=merged, right=products, on='product_id', how='inner')\n",
    "merged = pd.merge(left=merged, right=sellers, on='seller_id', how='inner')\n",
    "merged = pd.merge(left=merged, right=categories, on='product_category_name', how='inner')\n"
   ]
  },
  {
   "cell_type": "code",
   "execution_count": null,
   "metadata": {},
   "outputs": [],
   "source": [
    "merged['delivery_time_days'] = (merged['order_delivered_customer_date'] - merged['order_purchase_timestamp']).dt.days"
   ]
  },
  {
   "cell_type": "markdown",
   "metadata": {},
   "source": [
    "## Train Random Forest Model"
   ]
  },
  {
   "cell_type": "code",
   "execution_count": null,
   "metadata": {},
   "outputs": [],
   "source": [
    "X_train, X_test, y_train, y_test = train_test_split(X, y, test_size=0.2, random_state=42)\n",
    "\n",
    "model = RandomForestRegressor(random_state=42)\n",
    "model.fit(X_train, y_train)\n",
    "\n",
    "y_pred = model.predict(X_test)\n",
    "\n",
    "mae = mean_absolute_error(y_test, y_pred)\n",
    "print(f'Mean Absolute Error: {mae}')\n",
    "\n",
    "joblib.dump(model, '../models/delivery_time_model.joblib')"
   ]
  }
 ],
 "metadata": {
  "kernelspec": {
   "display_name": "clean-nlp",
   "language": "python",
   "name": "python3"
  },
  "language_info": {
   "codemirror_mode": {
    "name": "ipython",
    "version": 3
   },
   "file_extension": ".py",
   "mimetype": "text/x-python",
   "name": "python",
   "nbconvert_exporter": "python",
   "pygments_lexer": "ipython3",
   "version": "3.11.13"
  }
 },
 "nbformat": 4,
 "nbformat_minor": 2
}
